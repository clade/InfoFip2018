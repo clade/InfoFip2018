{
 "cells": [
  {
   "cell_type": "code",
   "execution_count": 2,
   "metadata": {
    "collapsed": true
   },
   "outputs": [],
   "source": [
    "from numpy import *\n",
    "import numpy as np"
   ]
  },
  {
   "cell_type": "code",
   "execution_count": 8,
   "metadata": {
    "collapsed": false
   },
   "outputs": [
    {
     "data": {
      "text/plain": [
       "array([ 0.84147098,  0.90929743, -0.95160207])"
      ]
     },
     "execution_count": 8,
     "metadata": {},
     "output_type": "execute_result"
    }
   ],
   "source": [
    "# Examples\n",
    "a = array([1, 2, 4.4])\n",
    "a**2\n",
    "np.sin(a)"
   ]
  },
  {
   "cell_type": "code",
   "execution_count": 9,
   "metadata": {
    "collapsed": false
   },
   "outputs": [
    {
     "ename": "TypeError",
     "evalue": "only length-1 arrays can be converted to Python scalars",
     "output_type": "error",
     "traceback": [
      "\u001b[1;31m---------------------------------------------------------------------------\u001b[0m",
      "\u001b[1;31mTypeError\u001b[0m                                 Traceback (most recent call last)",
      "\u001b[1;32m<ipython-input-9-702245752729>\u001b[0m in \u001b[0;36m<module>\u001b[1;34m()\u001b[0m\n\u001b[0;32m      2\u001b[0m \u001b[1;32mimport\u001b[0m \u001b[0mmath\u001b[0m\u001b[1;33m\u001b[0m\u001b[0m\n\u001b[0;32m      3\u001b[0m \u001b[1;33m\u001b[0m\u001b[0m\n\u001b[1;32m----> 4\u001b[1;33m \u001b[0mmath\u001b[0m\u001b[1;33m.\u001b[0m\u001b[0msin\u001b[0m\u001b[1;33m(\u001b[0m\u001b[0ma\u001b[0m\u001b[1;33m)\u001b[0m\u001b[1;33m\u001b[0m\u001b[0m\n\u001b[0m",
      "\u001b[1;31mTypeError\u001b[0m: only length-1 arrays can be converted to Python scalars"
     ]
    }
   ],
   "source": [
    "# Il ne faut pas utiliser le module math avec des tableaux numpy\n",
    "import math\n",
    "\n",
    "math.sin(a)"
   ]
  },
  {
   "cell_type": "code",
   "execution_count": 14,
   "metadata": {
    "collapsed": false
   },
   "outputs": [
    {
     "name": "stdout",
     "output_type": "stream",
     "text": [
      "1000 loops, best of 3: 791 µs per loop\n",
      "1 loop, best of 3: 204 ms per loop\n"
     ]
    }
   ],
   "source": [
    "# Comparaison de la vitesse entre une liste et un tableau \n",
    "a = random.rand(1000000)\n",
    "\n",
    "%timeit a**2\n",
    "\n",
    "def carre(x):\n",
    "    return [elm**2 for elm in x]\n",
    "b = list(a)\n",
    "\n",
    "%timeit carre(b)"
   ]
  },
  {
   "cell_type": "markdown",
   "metadata": {},
   "source": [
    "# Avantages (et inconvénients) des tableaux\n"
   ]
  },
  {
   "cell_type": "code",
   "execution_count": 22,
   "metadata": {
    "collapsed": false
   },
   "outputs": [
    {
     "data": {
      "text/plain": [
       "array([3, 2])"
      ]
     },
     "execution_count": 22,
     "metadata": {},
     "output_type": "execute_result"
    }
   ],
   "source": [
    "a = array([1, 2])\n",
    "a[0] = 3.14\n",
    "a\n",
    "# Taille et typde du tableau est fixe"
   ]
  },
  {
   "cell_type": "markdown",
   "metadata": {},
   "source": [
    "# Création d'un tableau\n",
    "Il existe plusieurs fonctions pour créer un tableau.\n",
    "\n",
    "* array :  partir d'une liste\n",
    "* zeros, ones, eye\n",
    "* arange\n",
    "* linspace, logspace\n",
    "* loadtxt\n",
    "* load/save\n",
    "\n",
    "Le type est déterminé automatiquement. On peut le forcer avec l'argument dtype"
   ]
  },
  {
   "cell_type": "code",
   "execution_count": 25,
   "metadata": {
    "collapsed": false
   },
   "outputs": [
    {
     "data": {
      "text/plain": [
       "array([1, 1, 1, 1, 1, 1, 1, 1, 1, 1, 2, 2, 2, 2, 2, 2, 2, 2, 2, 2])"
      ]
     },
     "execution_count": 25,
     "metadata": {},
     "output_type": "execute_result"
    }
   ],
   "source": [
    "# Array ne fonctionne pas avec un générateur !\n",
    "def mon_generateur():\n",
    "    for _ in range(10):\n",
    "        yield 1\n",
    "    for _ in range(10):\n",
    "        yield 2\n",
    "array(list(mon_generateur()))"
   ]
  },
  {
   "cell_type": "code",
   "execution_count": 28,
   "metadata": {
    "collapsed": false
   },
   "outputs": [
    {
     "name": "stdout",
     "output_type": "stream",
     "text": [
      "[3 4 5 6 7]\n",
      "[3 5 7]\n"
     ]
    },
    {
     "data": {
      "text/plain": [
       "array([ 3. ,  5.2,  7.4])"
      ]
     },
     "execution_count": 28,
     "metadata": {},
     "output_type": "execute_result"
    }
   ],
   "source": [
    "print(arange(3, 8))\n",
    "print(arange(3, 8, 2))\n",
    "# arange(debut, fin, pas)\n",
    "arange(3, 8, 2.2)"
   ]
  },
  {
   "cell_type": "code",
   "execution_count": 30,
   "metadata": {
    "collapsed": false
   },
   "outputs": [
    {
     "name": "stdout",
     "output_type": "stream",
     "text": [
      "0.001001001001\n"
     ]
    }
   ],
   "source": [
    "# linspace(debut, fin, N)\n",
    "linspace(0, 1, 10)\n",
    "dt = 1E-3\n",
    "N = 1000\n",
    "T_tot = N*dt\n",
    "Tt = linspace(0, T_tot, N)\n",
    "print(Tt[1] - Tt[0])"
   ]
  },
  {
   "cell_type": "code",
   "execution_count": 8,
   "metadata": {
    "collapsed": false
   },
   "outputs": [],
   "source": [
    "# Attention pour linspace\n",
    "# Si on veut contrôler delta_x, c'est mieux ainsi\n",
    "Tt = arange(N)*dt\n",
    "len(Tt)"
   ]
  },
  {
   "cell_type": "code",
   "execution_count": 39,
   "metadata": {
    "collapsed": false
   },
   "outputs": [
    {
     "data": {
      "text/plain": [
       "array([ 0. ,  0.1,  0.2,  0.3,  0.4,  0.5,  0.6,  0.7,  0.8,  0.9])"
      ]
     },
     "execution_count": 39,
     "metadata": {},
     "output_type": "execute_result"
    }
   ],
   "source": [
    "linspace(0, 1, 10, endpoint=False)"
   ]
  },
  {
   "cell_type": "code",
   "execution_count": 40,
   "metadata": {
    "collapsed": false
   },
   "outputs": [
    {
     "data": {
      "text/plain": [
       "array([ 10.        ,  10.47128548,  10.96478196,  11.48153621,\n",
       "        12.02264435,  12.58925412,  13.18256739,  13.80384265,\n",
       "        14.45439771,  15.13561248,  15.84893192,  16.59586907,\n",
       "        17.37800829,  18.19700859,  19.05460718,  19.95262315,\n",
       "        20.89296131,  21.87761624,  22.90867653,  23.98832919,\n",
       "        25.11886432,  26.30267992,  27.54228703,  28.84031503,\n",
       "        30.1995172 ,  31.6227766 ,  33.11311215,  34.67368505,\n",
       "        36.30780548,  38.01893963,  39.81071706,  41.68693835,\n",
       "        43.65158322,  45.70881896,  47.86300923,  50.11872336,\n",
       "        52.48074602,  54.95408739,  57.54399373,  60.25595861,\n",
       "        63.09573445,  66.0693448 ,  69.18309709,  72.44359601,\n",
       "        75.8577575 ,  79.43282347,  83.17637711,  87.096359  ,\n",
       "        91.20108394,  95.4992586 ])"
      ]
     },
     "execution_count": 40,
     "metadata": {},
     "output_type": "execute_result"
    }
   ],
   "source": [
    "logspace(1, 2, endpoint=False)"
   ]
  },
  {
   "cell_type": "code",
   "execution_count": 42,
   "metadata": {
    "collapsed": false
   },
   "outputs": [],
   "source": [
    "mon_tableau = loadtxt('/tmp/fichier_data.txt.csv')\n",
    "savetxt('/tmp/autre_fichier.txt', mon_tableau)"
   ]
  },
  {
   "cell_type": "code",
   "execution_count": 46,
   "metadata": {
    "collapsed": false
   },
   "outputs": [
    {
     "name": "stdout",
     "output_type": "stream",
     "text": [
      "1 loop, best of 3: 363 ms per loop\n",
      "1 loop, best of 3: 552 ms per loop\n",
      "100 loops, best of 3: 5.89 ms per loop\n",
      "The slowest run took 4.86 times longer than the fastest. This could mean that an intermediate result is being cached.\n",
      "1000 loops, best of 3: 316 µs per loop\n"
     ]
    }
   ],
   "source": [
    "a = random.rand(100000)\n",
    "\n",
    "%timeit savetxt('/tmp/fichier_a.txt', a)\n",
    "%timeit loadtxt('/tmp/fichier_a.txt')\n",
    "\n",
    "%timeit save('/tmp/fichier_a.npy', a)\n",
    "%timeit load('/tmp/fichier_a.npy')"
   ]
  },
  {
   "cell_type": "code",
   "execution_count": 50,
   "metadata": {
    "collapsed": false
   },
   "outputs": [
    {
     "data": {
      "text/plain": [
       "array([ 0.,  1.,  2.,  3.,  4.,  5.,  6.,  7.,  8.,  9.])"
      ]
     },
     "execution_count": 50,
     "metadata": {},
     "output_type": "execute_result"
    }
   ],
   "source": [
    "zeros(10, dtype=int)\n",
    "arange(10, dtype=float)"
   ]
  },
  {
   "cell_type": "code",
   "execution_count": 66,
   "metadata": {
    "collapsed": false
   },
   "outputs": [
    {
     "name": "stdout",
     "output_type": "stream",
     "text": [
      "[-9223372036854775808]\n"
     ]
    },
    {
     "name": "stderr",
     "output_type": "stream",
     "text": [
      "/dd_int/anaconda3/lib/python3.5/site-packages/ipykernel/__main__.py:1: RuntimeWarning: invalid value encountered in power\n",
      "  if __name__ == '__main__':\n"
     ]
    },
    {
     "data": {
      "text/plain": [
       "-9223372036854775808"
      ]
     },
     "execution_count": 66,
     "metadata": {},
     "output_type": "execute_result"
    }
   ],
   "source": [
    "print(array([2])**63)\n",
    "-2**63"
   ]
  },
  {
   "cell_type": "code",
   "execution_count": 80,
   "metadata": {
    "collapsed": false
   },
   "outputs": [
    {
     "name": "stdout",
     "output_type": "stream",
     "text": [
      "[ 9.996344e-17]\n",
      "[ 0.]\n"
     ]
    }
   ],
   "source": [
    "a = array([1], np.float128)\n",
    "b = array([1E-16], np.float128)\n",
    "print((a+b) - a)\n",
    "\n",
    "a = array([1], np.float64)\n",
    "b = array([1E-16], np.float64)\n",
    "print((a+b) - a)"
   ]
  },
  {
   "cell_type": "markdown",
   "metadata": {},
   "source": [
    "# Fonctions vectorisées\n",
    "C'est une fonction qui calcul sur un tableau élément par élément"
   ]
  },
  {
   "cell_type": "code",
   "execution_count": 83,
   "metadata": {
    "collapsed": true
   },
   "outputs": [],
   "source": [
    "x = linspace(-1, 1, 11, endpoint=False)*pi"
   ]
  },
  {
   "cell_type": "code",
   "execution_count": 89,
   "metadata": {
    "collapsed": false
   },
   "outputs": [
    {
     "name": "stdout",
     "output_type": "stream",
     "text": [
      "[ 1.  1.  1.  1.  1.  1.  1.  1.  1.  1.  1.]\n"
     ]
    }
   ],
   "source": [
    "# Souvent il n'y a rien a faire\n",
    "sin(x)\n",
    "\n",
    "def ma_fonction(x):\n",
    "    return sin(x)**2 + cos(x)**2\n",
    "\n",
    "print(ma_fonction(x))\n"
   ]
  },
  {
   "cell_type": "code",
   "execution_count": 90,
   "metadata": {
    "collapsed": false
   },
   "outputs": [
    {
     "data": {
      "text/plain": [
       "array([ 3.14159265,  2.57039399,  1.99919533,  1.42799666,  0.856798  ,\n",
       "        0.28559933,  0.28559933,  0.856798  ,  1.42799666,  1.99919533,\n",
       "        2.57039399])"
      ]
     },
     "execution_count": 90,
     "metadata": {},
     "output_type": "execute_result"
    }
   ],
   "source": [
    "# Sinon, on utiliser le décorateur vectorize\n",
    "# Mais il existe des solutions pour éviter d'avoir à \n",
    "# l'utiliser (c.f. prochaine partie)\n",
    "@vectorize\n",
    "def mafonction(a):\n",
    "    if a>0:\n",
    "        return a\n",
    "    else:\n",
    "        return -a\n",
    "    \n",
    "mafonction(x)"
   ]
  },
  {
   "cell_type": "code",
   "execution_count": 91,
   "metadata": {
    "collapsed": false
   },
   "outputs": [
    {
     "ename": "ValueError",
     "evalue": "The truth value of an array with more than one element is ambiguous. Use a.any() or a.all()",
     "output_type": "error",
     "traceback": [
      "\u001b[1;31m---------------------------------------------------------------------------\u001b[0m",
      "\u001b[1;31mValueError\u001b[0m                                Traceback (most recent call last)",
      "\u001b[1;32m<ipython-input-91-fc516e28ed07>\u001b[0m in \u001b[0;36m<module>\u001b[1;34m()\u001b[0m\n\u001b[0;32m      1\u001b[0m \u001b[1;31m# Il faut connaitre l'origine de cette erreur\u001b[0m\u001b[1;33m\u001b[0m\u001b[1;33m\u001b[0m\u001b[0m\n\u001b[1;32m----> 2\u001b[1;33m \u001b[1;32mif\u001b[0m \u001b[0mx\u001b[0m\u001b[1;33m>\u001b[0m\u001b[1;36m0\u001b[0m\u001b[1;33m:\u001b[0m\u001b[1;33m\u001b[0m\u001b[0m\n\u001b[0m\u001b[0;32m      3\u001b[0m     \u001b[1;32mpass\u001b[0m\u001b[1;33m\u001b[0m\u001b[0m\n",
      "\u001b[1;31mValueError\u001b[0m: The truth value of an array with more than one element is ambiguous. Use a.any() or a.all()"
     ]
    }
   ],
   "source": [
    "# Il faut connaitre l'origine de cette erreur\n",
    "if x>0:\n",
    "    pass"
   ]
  },
  {
   "cell_type": "code",
   "execution_count": 94,
   "metadata": {
    "collapsed": false
   },
   "outputs": [
    {
     "data": {
      "text/plain": [
       "True"
      ]
     },
     "execution_count": 94,
     "metadata": {},
     "output_type": "execute_result"
    }
   ],
   "source": [
    "(x>0).any()"
   ]
  },
  {
   "cell_type": "markdown",
   "metadata": {},
   "source": [
    "# Indexer un tableau"
   ]
  },
  {
   "cell_type": "code",
   "execution_count": 98,
   "metadata": {
    "collapsed": false
   },
   "outputs": [
    {
     "data": {
      "text/plain": [
       "array([-2.64879381, -2.40239438, -2.15599496])"
      ]
     },
     "execution_count": 98,
     "metadata": {},
     "output_type": "execute_result"
    }
   ],
   "source": [
    "x = linspace(-1, 1, 51, endpoint=False)*pi\n",
    "# x[start:stop:step], comme range ou arange\n",
    "x[4:10:2]"
   ]
  },
  {
   "cell_type": "code",
   "execution_count": 99,
   "metadata": {
    "collapsed": false
   },
   "outputs": [
    {
     "data": {
      "text/plain": [
       "slice(4, 10, 2)"
      ]
     },
     "execution_count": 99,
     "metadata": {},
     "output_type": "execute_result"
    }
   ],
   "source": [
    "slice(4,10,2)"
   ]
  },
  {
   "cell_type": "code",
   "execution_count": 100,
   "metadata": {
    "collapsed": false
   },
   "outputs": [
    {
     "data": {
      "text/plain": [
       "array([-2.64879381, -2.40239438, -2.15599496])"
      ]
     },
     "execution_count": 100,
     "metadata": {},
     "output_type": "execute_result"
    }
   ],
   "source": [
    "# C'est un racourcis pour créer un slice\n",
    "x[slice(4, 10, 2)]"
   ]
  },
  {
   "cell_type": "code",
   "execution_count": 102,
   "metadata": {
    "collapsed": false
   },
   "outputs": [
    {
     "data": {
      "text/plain": [
       "array([-3.14159265, -3.01839294, -2.89519323, -2.77199352, -2.64879381,\n",
       "       -2.52559409, -2.40239438, -2.27919467, -2.15599496, -2.03279525,\n",
       "       -1.90959553, -1.78639582, -1.66319611, -1.5399964 , -1.41679669,\n",
       "       -1.29359698, -1.17039726, -1.04719755, -0.92399784, -0.80079813,\n",
       "       -0.67759842, -0.5543987 , -0.43119899, -0.30799928, -0.18479957,\n",
       "       -0.06159986,  0.06159986,  0.18479957,  0.30799928,  0.43119899,\n",
       "        0.5543987 ,  0.67759842,  0.80079813,  0.92399784,  1.04719755,\n",
       "        1.17039726,  1.29359698,  1.41679669,  1.5399964 ,  1.66319611,\n",
       "        1.78639582,  1.90959553,  2.03279525,  2.15599496,  2.27919467,\n",
       "        2.40239438,  2.52559409,  2.64879381,  2.77199352,  2.89519323])"
      ]
     },
     "execution_count": 102,
     "metadata": {},
     "output_type": "execute_result"
    }
   ],
   "source": [
    "# tout sauf le dernier\n",
    "x[:-1]"
   ]
  },
  {
   "cell_type": "code",
   "execution_count": 103,
   "metadata": {
    "collapsed": false
   },
   "outputs": [
    {
     "data": {
      "text/plain": [
       "array([ 2.89519323,  3.01839294])"
      ]
     },
     "execution_count": 103,
     "metadata": {},
     "output_type": "execute_result"
    }
   ],
   "source": [
    "# Les deux derniers\n",
    "x[-2:]"
   ]
  },
  {
   "cell_type": "code",
   "execution_count": 109,
   "metadata": {
    "collapsed": false
   },
   "outputs": [],
   "source": [
    "# La différence entre deux éléments consécutifs\n",
    "y = sin(x)\n",
    "z = y[1:] - y[:-1]"
   ]
  },
  {
   "cell_type": "code",
   "execution_count": 114,
   "metadata": {
    "collapsed": false
   },
   "outputs": [
    {
     "name": "stdout",
     "output_type": "stream",
     "text": [
      "0.122888290665\n",
      "0.122888290665\n"
     ]
    },
    {
     "data": {
      "text/plain": [
       "0.5"
      ]
     },
     "execution_count": 114,
     "metadata": {},
     "output_type": "execute_result"
    }
   ],
   "source": [
    "print(z.sum())\n",
    "print(y[-1] - y[0])\n",
    "\n",
    "z.mean()\n",
    "z.std()\n",
    "z.min()\n",
    "z.max()\n",
    "\n",
    "np.mean(y**2)\n",
    "(y**2).mean()"
   ]
  },
  {
   "cell_type": "code",
   "execution_count": 115,
   "metadata": {
    "collapsed": false
   },
   "outputs": [
    {
     "data": {
      "text/plain": [
       "array([-0.12288829, -0.47309356, -0.67369564, -0.24391372])"
      ]
     },
     "execution_count": 115,
     "metadata": {},
     "output_type": "execute_result"
    }
   ],
   "source": [
    "# Indexer avec un tableau d'entier\n",
    "y[array([1, 4, 6, 2])]"
   ]
  },
  {
   "cell_type": "code",
   "execution_count": 120,
   "metadata": {
    "collapsed": false
   },
   "outputs": [
    {
     "name": "stdout",
     "output_type": "stream",
     "text": [
      "[ 0.55222481  0.47171723  0.39277078  0.21590448  0.25450486  0.1817899\n",
      "  0.7326054   0.6828779   0.46761122  0.55089921]\n",
      "[ 0.1817899   0.21590448  0.25450486]\n"
     ]
    }
   ],
   "source": [
    "# Par exemple : argsort\n",
    "# Les trois éléments les plus petits\n",
    "y = random.rand(10)\n",
    "print(y)\n",
    "k = y.argsort()\n",
    "print(y[k[:3]])"
   ]
  },
  {
   "cell_type": "code",
   "execution_count": 128,
   "metadata": {
    "collapsed": false
   },
   "outputs": [
    {
     "name": "stdout",
     "output_type": "stream",
     "text": [
      "[ 0.57958054  0.36060437  0.02491517  0.64643728  0.21258396  0.98147722\n",
      "  0.90411637  0.33835655  0.81355037  0.80026895]\n",
      "[ 0.57958054  0.36060437  0.81355037  0.64643728  0.90411637  0.98147722\n",
      "  0.90411637  0.98147722  0.81355037  0.80026895]\n"
     ]
    }
   ],
   "source": [
    "y = random.rand(10)\n",
    "print(y)\n",
    "k = y.argsort()\n",
    "\n",
    "y[k[:3]] = y[k[-3:]]\n",
    "print(y)\n"
   ]
  },
  {
   "cell_type": "code",
   "execution_count": null,
   "metadata": {
    "collapsed": true
   },
   "outputs": [],
   "source": []
  },
  {
   "cell_type": "code",
   "execution_count": 129,
   "metadata": {
    "collapsed": false
   },
   "outputs": [
    {
     "data": {
      "text/plain": [
       "array([1, 6])"
      ]
     },
     "execution_count": 129,
     "metadata": {},
     "output_type": "execute_result"
    }
   ],
   "source": [
    "# Avec un tableau de booléens\n",
    "a = array([1, 5, 6])\n",
    "b = array([True, False, True])\n",
    "a[b]"
   ]
  },
  {
   "cell_type": "code",
   "execution_count": 132,
   "metadata": {
    "collapsed": false
   },
   "outputs": [
    {
     "data": {
      "text/plain": [
       "array([ 0.16082526,  0.08950054,  0.        ,  0.19401739,  0.12452296,\n",
       "        0.46319504,  0.46988457,  0.15950239,  0.        ,  0.47329232])"
      ]
     },
     "execution_count": 132,
     "metadata": {},
     "output_type": "execute_result"
    }
   ],
   "source": [
    "a = random.rand(10)-.5\n",
    "a[a<0] = 0\n",
    "a"
   ]
  },
  {
   "cell_type": "code",
   "execution_count": 135,
   "metadata": {
    "collapsed": false
   },
   "outputs": [
    {
     "data": {
      "text/plain": [
       "[<matplotlib.lines.Line2D at 0x7f35c5d1f7f0>]"
      ]
     },
     "execution_count": 135,
     "metadata": {},
     "output_type": "execute_result"
    },
    {
     "data": {
      "image/png": "[encoded data removed]",
      "text/plain": [
       "<matplotlib.figure.Figure at 0x7f35c5e010f0>"
      ]
     },
     "metadata": {},
     "output_type": "display_data"
    }
   ],
   "source": [
    "%matplotlib inline\n",
    "import matplotlib.pyplot as plt\n",
    "\n",
    "x = linspace(-pi, pi, 201)\n",
    "y = sin(x)\n",
    "y[y<0] = -y[y<0]\n",
    "plt.plot(x, y)"
   ]
  },
  {
   "cell_type": "code",
   "execution_count": 140,
   "metadata": {
    "collapsed": false
   },
   "outputs": [
    {
     "data": {
      "text/plain": [
       "[<matplotlib.lines.Line2D at 0x7f35c5bdc518>]"
      ]
     },
     "execution_count": 140,
     "metadata": {},
     "output_type": "execute_result"
    },
    {
     "data": {
      "image/png": "[encoded data removed]",
      "text/plain": [
       "<matplotlib.figure.Figure at 0x7f35c5e34198>"
      ]
     },
     "metadata": {},
     "output_type": "display_data"
    }
   ],
   "source": [
    "N = 1000\n",
    "y = np.random.rand(N) - .5\n",
    "x = np.random.rand(N)\n",
    "mask = (y>0)\n",
    "plt.plot(x[~mask], y[~mask], 'o')\n",
    "plt.plot(x[mask], y[mask], '+')"
   ]
  },
  {
   "cell_type": "code",
   "execution_count": 144,
   "metadata": {
    "collapsed": false
   },
   "outputs": [
    {
     "name": "stdout",
     "output_type": "stream",
     "text": [
      "[ True False False False]\n",
      "[ True  True  True False]\n",
      "[False  True  True False]\n",
      "[False  True False  True]\n"
     ]
    }
   ],
   "source": [
    "a = array([True, False, True, False])\n",
    "b = array([True, True, False, False])\n",
    "print(a & b)\n",
    "print(a | b)\n",
    "print(a ^ b)\n",
    "print(~a)"
   ]
  },
  {
   "cell_type": "markdown",
   "metadata": {},
   "source": [
    "# Tableau dans la mémoire\n",
    "* strides"
   ]
  },
  {
   "cell_type": "code",
   "execution_count": 147,
   "metadata": {
    "collapsed": false
   },
   "outputs": [],
   "source": [
    "a = arange(10)\n",
    "b = a[1:4]"
   ]
  },
  {
   "cell_type": "code",
   "execution_count": 151,
   "metadata": {
    "collapsed": false
   },
   "outputs": [
    {
     "data": {
      "text/plain": [
       "array([ 0, 10,  2,  3,  4,  5,  6,  7,  8,  9])"
      ]
     },
     "execution_count": 151,
     "metadata": {},
     "output_type": "execute_result"
    }
   ],
   "source": [
    "b[0] = 10\n",
    "a"
   ]
  },
  {
   "cell_type": "code",
   "execution_count": 157,
   "metadata": {
    "collapsed": false
   },
   "outputs": [
    {
     "data": {
      "text/plain": [
       "b'\\xff\\xff\\xff\\xff\\xff\\xff\\xff\\xff\\x00\\x00\\x00\\x00\\x00\\x00\\x00\\x00\\x01\\x00\\x00\\x00\\x00\\x00\\x00\\x00\\x02\\x00\\x00\\x00\\x00\\x00\\x00\\x00\\x03\\x00\\x00\\x00\\x00\\x00\\x00\\x00\\x04\\x00\\x00\\x00\\x00\\x00\\x00\\x00\\x05\\x00\\x00\\x00\\x00\\x00\\x00\\x00\\x06\\x00\\x00\\x00\\x00\\x00\\x00\\x00\\x07\\x00\\x00\\x00\\x00\\x00\\x00\\x00\\x08\\x00\\x00\\x00\\x00\\x00\\x00\\x00'"
      ]
     },
     "execution_count": 157,
     "metadata": {},
     "output_type": "execute_result"
    }
   ],
   "source": [
    "a = arange(10)-1\n",
    "a.data.tobytes()"
   ]
  },
  {
   "cell_type": "code",
   "execution_count": 160,
   "metadata": {
    "collapsed": false
   },
   "outputs": [
    {
     "data": {
      "text/plain": [
       "b'\\xff\\xff\\xff\\xff\\xff\\xff\\xff\\xff\\x01\\x00\\x00\\x00\\x00\\x00\\x00\\x00\\x03\\x00\\x00\\x00\\x00\\x00\\x00\\x00\\x05\\x00\\x00\\x00\\x00\\x00\\x00\\x00\\x07\\x00\\x00\\x00\\x00\\x00\\x00\\x00'"
      ]
     },
     "execution_count": 160,
     "metadata": {},
     "output_type": "execute_result"
    }
   ],
   "source": [
    "b = a[::2]\n",
    "b.data.tobytes()\n"
   ]
  },
  {
   "cell_type": "code",
   "execution_count": 166,
   "metadata": {
    "collapsed": false
   },
   "outputs": [
    {
     "data": {
      "text/plain": [
       "(16,)"
      ]
     },
     "execution_count": 166,
     "metadata": {},
     "output_type": "execute_result"
    }
   ],
   "source": [
    "b.strides"
   ]
  },
  {
   "cell_type": "code",
   "execution_count": 167,
   "metadata": {
    "collapsed": false
   },
   "outputs": [
    {
     "data": {
      "text/plain": [
       "(32, 8)"
      ]
     },
     "execution_count": 167,
     "metadata": {},
     "output_type": "execute_result"
    }
   ],
   "source": [
    "a = zeros((4, 4))\n",
    "a.strides"
   ]
  },
  {
   "cell_type": "code",
   "execution_count": 168,
   "metadata": {
    "collapsed": false
   },
   "outputs": [
    {
     "name": "stdout",
     "output_type": "stream",
     "text": [
      "[          0  4294967296           1  8589934592           2 12884901888\n",
      "           3 17179869184           4 21474836480]\n"
     ]
    }
   ],
   "source": [
    "a = arange(10)\n",
    "a.strides = (4,)\n",
    "print(a)"
   ]
  },
  {
   "cell_type": "markdown",
   "metadata": {},
   "source": [
    "# Modifier un tableau"
   ]
  },
  {
   "cell_type": "code",
   "execution_count": null,
   "metadata": {
    "collapsed": true
   },
   "outputs": [],
   "source": [
    "x = random.rand(10)\n"
   ]
  },
  {
   "cell_type": "code",
   "execution_count": null,
   "metadata": {
    "collapsed": true
   },
   "outputs": [],
   "source": [
    "x = random.rand(10)\n"
   ]
  },
  {
   "cell_type": "code",
   "execution_count": null,
   "metadata": {
    "collapsed": true
   },
   "outputs": [],
   "source": [
    "x = random.rand(10)\n",
    "x[x>.5] = .5"
   ]
  },
  {
   "cell_type": "code",
   "execution_count": null,
   "metadata": {
    "collapsed": true
   },
   "outputs": [],
   "source": []
  },
  {
   "cell_type": "code",
   "execution_count": 13,
   "metadata": {
    "collapsed": true
   },
   "outputs": [],
   "source": [
    "# Valeur absolue?\n"
   ]
  },
  {
   "cell_type": "markdown",
   "metadata": {},
   "source": [
    "# Tableaux nD"
   ]
  },
  {
   "cell_type": "code",
   "execution_count": null,
   "metadata": {
    "collapsed": true
   },
   "outputs": [],
   "source": [
    "a = array([[1,2], [3, 4]])\n",
    "# l'index est un tuple"
   ]
  },
  {
   "cell_type": "code",
   "execution_count": null,
   "metadata": {
    "collapsed": true
   },
   "outputs": [],
   "source": [
    "x = random.rand(5, 5)\n",
    "# Récupérer une colonne\n"
   ]
  },
  {
   "cell_type": "code",
   "execution_count": null,
   "metadata": {
    "collapsed": true
   },
   "outputs": [],
   "source": [
    "# méthode reshape\n",
    "x = random.rand(25)"
   ]
  },
  {
   "cell_type": "code",
   "execution_count": null,
   "metadata": {
    "collapsed": true
   },
   "outputs": [],
   "source": [
    "x = random.rand(5, 3)\n",
    "x.strides"
   ]
  },
  {
   "cell_type": "code",
   "execution_count": null,
   "metadata": {
    "collapsed": true
   },
   "outputs": [],
   "source": [
    "# Attention, numpy évite de recopier la memoire\n",
    "x = arange(10)\n",
    "b = x[1::2]\n",
    "b[2] = 100\n",
    "x"
   ]
  },
  {
   "cell_type": "code",
   "execution_count": null,
   "metadata": {
    "collapsed": true
   },
   "outputs": [],
   "source": [
    "x = arange(10)\n",
    "b = x[x%2==0]\n",
    "b[2] = 100\n",
    "x"
   ]
  },
  {
   "cell_type": "code",
   "execution_count": 14,
   "metadata": {
    "collapsed": false
   },
   "outputs": [],
   "source": [
    "# meshgrid\n"
   ]
  },
  {
   "cell_type": "code",
   "execution_count": 15,
   "metadata": {
    "collapsed": false
   },
   "outputs": [
    {
     "name": "stdout",
     "output_type": "stream",
     "text": [
      "Populating the interactive namespace from numpy and matplotlib\n"
     ]
    }
   ],
   "source": [
    "%pylab inline"
   ]
  },
  {
   "cell_type": "code",
   "execution_count": 18,
   "metadata": {
    "collapsed": false
   },
   "outputs": [
    {
     "data": {
      "text/plain": [
       "<matplotlib.image.AxesImage at 0x7fb5cc8d9940>"
      ]
     },
     "execution_count": 18,
     "metadata": {},
     "output_type": "execute_result"
    },
    {
     "data": {
      "image/png": "[encoded data removed]",
      "text/plain": [
       "<matplotlib.figure.Figure at 0x7fb5cc990748>"
      ]
     },
     "metadata": {},
     "output_type": "display_data"
    }
   ],
   "source": [
    "# Création d'une image 2D avec meshgrid\n",
    "\n",
    "x = linspace(-.5, .5, 100)*4*pi\n",
    "y = linspace(-.5, .5, 100)*4*pi\n",
    "X, Y = meshgrid(x, y)\n",
    "R = sqrt(X**2 + Y**2)\n",
    "imshow((sin(Y)+cos(X))*exp(-R**2/30))"
   ]
  },
  {
   "cell_type": "markdown",
   "metadata": {},
   "source": [
    "# Broadcast"
   ]
  },
  {
   "cell_type": "code",
   "execution_count": 26,
   "metadata": {
    "collapsed": false
   },
   "outputs": [
    {
     "name": "stdout",
     "output_type": "stream",
     "text": [
      "(1, 5)\n"
     ]
    }
   ],
   "source": [
    "# Si sur une dimension la taille du tableau vaut 1, alors numpy peut l'étendre\n",
    "# pour qu'elle est la même valeur que celle de l'autre tableau\n",
    "x = random.rand(5, 5)\n",
    "a = array([arange(5)])\n",
    "print(a.shape)\n",
    "x[2:4, :] = a"
   ]
  },
  {
   "cell_type": "code",
   "execution_count": 23,
   "metadata": {
    "collapsed": false
   },
   "outputs": [
    {
     "data": {
      "text/plain": [
       "array([[  7.28573512e-02,   1.42947928e-01,   2.01724084e-01,\n",
       "          8.26562378e-01,   1.35450868e-01],\n",
       "       [  9.40177671e-01,   8.30012529e-01,   4.61468663e-01,\n",
       "          5.12394353e-01,   2.81813372e-01],\n",
       "       [  0.00000000e+00,   1.00000000e+00,   2.00000000e+00,\n",
       "          3.00000000e+00,   4.00000000e+00],\n",
       "       [  0.00000000e+00,   1.00000000e+00,   2.00000000e+00,\n",
       "          3.00000000e+00,   4.00000000e+00],\n",
       "       [  6.94346501e-01,   8.56704397e-02,   6.53554267e-02,\n",
       "          2.66422883e-03,   7.49485383e-01]])"
      ]
     },
     "execution_count": 23,
     "metadata": {},
     "output_type": "execute_result"
    }
   ],
   "source": [
    "# Il y a une syntaxe simple pour rajouter une dimension de taille 1\n",
    "# C'est newaxis\n",
    "a = arange(5)\n",
    "b = a[newaxis, :]\n",
    "x = random.rand(5, 5)\n",
    "x[2:4, :] = b\n",
    "x"
   ]
  },
  {
   "cell_type": "code",
   "execution_count": 27,
   "metadata": {
    "collapsed": false
   },
   "outputs": [],
   "source": [
    "# Exemple : calculer une moyenne pondérée \n",
    "# Chaque ligne est un élève, chaque colonne un examen\n",
    "notes = random.rand(10, 5)*20\n",
    "coef = array([1, 4, 2, 5, 8])"
   ]
  },
  {
   "cell_type": "code",
   "execution_count": 28,
   "metadata": {
    "collapsed": false
   },
   "outputs": [],
   "source": [
    "# Il est inutile de faire des boucles\n"
   ]
  },
  {
   "cell_type": "markdown",
   "metadata": {},
   "source": [
    "# Au delà de numpy : numba\n",
    "* Calculer $\\pi$ (avec une formule très très lente!!!)\n",
    "$$ \\frac\\pi4 = \\sum_i \\frac{(-1)^i}{2i+1} = 1 - \\frac13 + \\frac 15 - \\frac17 + \\ldots $$\n"
   ]
  },
  {
   "cell_type": "code",
   "execution_count": 29,
   "metadata": {
    "collapsed": false
   },
   "outputs": [
    {
     "name": "stdout",
     "output_type": "stream",
     "text": [
      "10 loops, best of 3: 160 ms per loop\n",
      "10 loops, best of 3: 31.6 ms per loop\n",
      "100 loops, best of 3: 8.87 ms per loop\n"
     ]
    }
   ],
   "source": [
    "def pi_python(N):\n",
    "    res = 0\n",
    "    coef = 1\n",
    "    for i in range(N):\n",
    "        res += coef/(2*i+1)\n",
    "        coef = -coef\n",
    "    return 4*res\n",
    "\n",
    "%timeit pi_python(1000000) # 155 ms\n",
    "\n",
    "def pi_np(N):\n",
    "    Ti = arange(N)\n",
    "    return 4*np.sum((1-2*(Ti%2))/(2*Ti+1))\n",
    "\n",
    "%timeit pi_np(1000000) # 28.3ms\n",
    "\n",
    "from numba import jit, int64, float64\n",
    "numba_pi = jit(float64(int64))(pi_python)\n",
    "\n",
    "@jit( float64(int64) )\n",
    "def pi_python(N):\n",
    "    res = 0\n",
    "    coef = 1\n",
    "    for i in range(N):\n",
    "        res += coef/(2*i+1)\n",
    "        coef = -coef\n",
    "    return 4*res\n",
    "%timeit numba_pi(1000000)"
   ]
  }
 ],
 "metadata": {
  "anaconda-cloud": {},
  "kernelspec": {
   "display_name": "Python [Root]",
   "language": "python",
   "name": "Python [Root]"
  },
  "language_info": {
   "codemirror_mode": {
    "name": "ipython",
    "version": 3
   },
   "file_extension": ".py",
   "mimetype": "text/x-python",
   "name": "python",
   "nbconvert_exporter": "python",
   "pygments_lexer": "ipython3",
   "version": "3.5.2"
  }
 },
 "nbformat": 4,
 "nbformat_minor": 2
}
