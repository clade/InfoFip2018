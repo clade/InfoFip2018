{
 "cells": [
  {
   "cell_type": "markdown",
   "metadata": {},
   "source": [
    "# Installation de Python \n",
    "\n",
    "- On utilise la version 3 de Python (3.6 est la version courrante)\n",
    "- Quelques différences avec la version 2 de Python (version 2.7 est la version courrant)\n",
    "- Distribution : Anaconda. Installation de tout les package. Linux, Mac OS et Windows\n",
    "- Utilisation de Python : \n",
    "    - Console : \"ipython\" ou \"jupyter console\"\n",
    "    - Spyder : environnement à la matlab\n",
    "    - Jupyter notebook : pratique pour des petits exemples. Ne permet pas de faire un projet en Python"
   ]
  },
  {
   "cell_type": "markdown",
   "metadata": {},
   "source": [
    "# 1. Les types d'objets en Python"
   ]
  },
  {
   "cell_type": "markdown",
   "metadata": {
    "slideshow": {
     "slide_type": "slide"
    }
   },
   "source": [
    "# Les nombres\n",
    "- entier (taille infinie)\n",
    "- flottant\n",
    "- complexe"
   ]
  },
  {
   "cell_type": "code",
   "execution_count": 16,
   "metadata": {
    "collapsed": false
   },
   "outputs": [],
   "source": [
    "z=(2+1j)**2\n",
    "z.real\n",
    "z.imag"
   ]
  },
  {
   "cell_type": "code",
   "execution_count": 81,
   "metadata": {
    "collapsed": false
   },
   "outputs": [
    {
     "data": {
      "text/plain": [
       "True"
      ]
     },
     "execution_count": 81,
     "metadata": {},
     "output_type": "execute_result"
    }
   ],
   "source": [
    "a = True\n",
    "b = False\n",
    "a|b\n",
    "a or b\n",
    "\n",
    "from math import sqrt\n",
    "\n",
    "(True and False) or True"
   ]
  },
  {
   "cell_type": "markdown",
   "metadata": {},
   "source": [
    "# Les chaînes de caratères\n",
    "- création ( \", ', et \"\"\")\n",
    "- quelques méthodes utiles"
   ]
  },
  {
   "cell_type": "code",
   "execution_count": 39,
   "metadata": {
    "collapsed": false
   },
   "outputs": [
    {
     "name": "stdout",
     "output_type": "stream",
     "text": [
      "mklmk\n",
      "\n",
      "lklkjl\n",
      "\n",
      "\n",
      "lkjljk\n",
      "0.007297405772247966\n"
     ]
    },
    {
     "data": {
      "text/plain": [
       "'La valeur de pi est 3.142 et celle de e est 2.718281828459045'"
      ]
     },
     "execution_count": 39,
     "metadata": {},
     "output_type": "execute_result"
    }
   ],
   "source": [
    "\"pipi\"\n",
    "'opoipoipoipoi'\n",
    "\"Aujourd'hui\"\n",
    "s='Aujourd\\'hui'\n",
    "s = \"\"\"mklmk\n",
    "\n",
    "lklkjl\n",
    "\n",
    "\n",
    "lkjljk\"\"\"\n",
    "print(s)\n",
    "\n",
    "s = 'α'\n",
    "\n",
    "# oubliez ce qui suit\n",
    "α = 1/137.035\n",
    "print(α)\n",
    "\n",
    "s='aujourd\\'hui'\n",
    "s[2]\n",
    "s.upper()\n",
    "\n",
    "s.endswith('ui')\n",
    "\n",
    "from math import pi, e\n",
    "s='La valeur de pi est {:.3f} et celle de e est {}'\n",
    "s.format(pi, e)\n"
   ]
  },
  {
   "cell_type": "markdown",
   "metadata": {
    "slideshow": {
     "slide_type": "slide"
    }
   },
   "source": [
    "# Les listes\n",
    "- création\n",
    "- modification\n",
    "- les boucles (enumerate et zip)\n",
    "- les list comprehension"
   ]
  },
  {
   "cell_type": "code",
   "execution_count": 49,
   "metadata": {
    "collapsed": false,
    "slideshow": {
     "slide_type": "fragment"
    }
   },
   "outputs": [
    {
     "name": "stdout",
     "output_type": "stream",
     "text": [
      "[3, 5]\n",
      "0 6\n",
      "1 10\n",
      "Pierre 34\n",
      "Jacques 56\n",
      "Jean 31\n"
     ]
    }
   ],
   "source": [
    "l = []\n",
    "l.append(3)\n",
    "ll = l\n",
    "ll.append(5)\n",
    "print(l)\n",
    "\n",
    "for i, elm in enumerate(ll):\n",
    "    print(i, 2*elm)\n",
    "    \n",
    "autre_liste = []\n",
    "for elm in ll:\n",
    "    autre_liste.append(elm**2)\n",
    "\n",
    "autre_liste = [elm**2 for elm in ll if elm>4]\n",
    "autre_liste\n",
    "\n",
    "l1 = ['Pierre', 'Jacques', 'Jean']\n",
    "l2 = [34, 56, 31]\n",
    "\n",
    "for nom, age in zip(l1, l2):\n",
    "    print(nom, age)"
   ]
  },
  {
   "cell_type": "code",
   "execution_count": 63,
   "metadata": {
    "collapsed": false
   },
   "outputs": [
    {
     "name": "stdout",
     "output_type": "stream",
     "text": [
      "-0.7568024953079282\n",
      "-0.6536436208636119\n",
      "[2, [...]]\n"
     ]
    },
    {
     "data": {
      "text/plain": [
       "2"
      ]
     },
     "execution_count": 63,
     "metadata": {},
     "output_type": "execute_result"
    }
   ],
   "source": [
    "from math import sin, cos\n",
    "\n",
    "l = [sin, cos]\n",
    "\n",
    "for function in l:\n",
    "    print(function(4))\n",
    "    \n",
    "l = [[1]]\n",
    "l[0][0]\n",
    "\n",
    "l = [2]\n",
    "l.append(l)\n",
    "print(l)\n",
    "l[1][1][1][0]"
   ]
  },
  {
   "cell_type": "markdown",
   "metadata": {
    "slideshow": {
     "slide_type": "slide"
    }
   },
   "source": [
    "# Les n-uplets (tuple)\n",
    "- exemple d'utilisation\n",
    "- avantage par rapport aux listes"
   ]
  },
  {
   "cell_type": "code",
   "execution_count": 55,
   "metadata": {
    "collapsed": false,
    "slideshow": {
     "slide_type": "fragment"
    }
   },
   "outputs": [
    {
     "name": "stdout",
     "output_type": "stream",
     "text": [
      "4\n"
     ]
    }
   ],
   "source": [
    "a = (1, 2, 4)\n",
    "b, _, d = a\n",
    "print(d)"
   ]
  },
  {
   "cell_type": "markdown",
   "metadata": {
    "slideshow": {
     "slide_type": "slide"
    }
   },
   "source": [
    "# Les dictionnaires\n",
    "- création\n",
    "- boucles"
   ]
  },
  {
   "cell_type": "code",
   "execution_count": 67,
   "metadata": {
    "collapsed": false,
    "slideshow": {
     "slide_type": "fragment"
    }
   },
   "outputs": [
    {
     "name": "stdout",
     "output_type": "stream",
     "text": [
      "Pierre 4\n",
      "Jacques 34\n"
     ]
    }
   ],
   "source": [
    "dico = {'Pierre':4}\n",
    "dico['Pierre']\n",
    "dico['Jacques'] = 34\n",
    "dico\n",
    "\n",
    "for nom, age in dico.items():\n",
    "    print(nom, age)\n"
   ]
  },
  {
   "cell_type": "markdown",
   "metadata": {
    "slideshow": {
     "slide_type": "slide"
    }
   },
   "source": [
    "# Les ensembles\n",
    "- création\n",
    "- operation sur les ensembles"
   ]
  },
  {
   "cell_type": "code",
   "execution_count": 72,
   "metadata": {
    "collapsed": false,
    "slideshow": {
     "slide_type": "fragment"
    }
   },
   "outputs": [
    {
     "name": "stdout",
     "output_type": "stream",
     "text": [
      "  3\n",
      "s 4\n",
      "r 2\n",
      "n 2\n",
      "t 1\n",
      "b 1\n",
      "p 1\n",
      "i 1\n",
      "u 1\n",
      "m 1\n",
      "a 1\n",
      "l 2\n",
      "o 2\n",
      "e 5\n"
     ]
    }
   ],
   "source": [
    "ens1 = {1, 2, 5}\n",
    "ens2 = {2, 3, 5}\n",
    "ens1 | ens2\n",
    "\n",
    "s = \"operation sur les ensembles\"\n",
    "for elm in set(s):\n",
    "    print(elm, s.count(elm))"
   ]
  },
  {
   "cell_type": "markdown",
   "metadata": {
    "slideshow": {
     "slide_type": "slide"
    }
   },
   "source": [
    "# 2. Elements de syntaxe"
   ]
  },
  {
   "cell_type": "markdown",
   "metadata": {},
   "source": [
    "# Arguments optionels"
   ]
  },
  {
   "cell_type": "code",
   "execution_count": 92,
   "metadata": {
    "collapsed": false
   },
   "outputs": [
    {
     "data": {
      "text/plain": [
       "10.0"
      ]
     },
     "execution_count": 92,
     "metadata": {},
     "output_type": "execute_result"
    }
   ],
   "source": [
    "def ma_function(a, b=3, c=3, temperature=25):\n",
    "    return (a + b + 2*c)*temperature/25\n",
    "\n",
    "ma_function(1)\n",
    "\n",
    "ma_function(c=5, a=2)\n",
    "\n",
    "g=ma_function\n",
    "g(1)\n"
   ]
  },
  {
   "cell_type": "markdown",
   "metadata": {},
   "source": [
    "# Fonction lambda"
   ]
  },
  {
   "cell_type": "code",
   "execution_count": 97,
   "metadata": {
    "collapsed": false
   },
   "outputs": [
    {
     "data": {
      "text/plain": [
       "<function __main__.<lambda>>"
      ]
     },
     "execution_count": 97,
     "metadata": {},
     "output_type": "execute_result"
    }
   ],
   "source": [
    "(lambda x:x**2)(2)\n",
    "lambda x, y, z:x+y+z"
   ]
  },
  {
   "cell_type": "markdown",
   "metadata": {},
   "source": [
    "# Exemple : fonction quad de scipy"
   ]
  },
  {
   "cell_type": "code",
   "execution_count": 100,
   "metadata": {
    "collapsed": false
   },
   "outputs": [
    {
     "data": {
      "text/plain": [
       "(0.33333333333333337, 3.700743415417189e-15)"
      ]
     },
     "execution_count": 100,
     "metadata": {},
     "output_type": "execute_result"
    }
   ],
   "source": [
    "from scipy.integrate import quad\n",
    "quad(lambda x:x**2, 0, 1, epsrel=1E-12)"
   ]
  },
  {
   "cell_type": "markdown",
   "metadata": {},
   "source": [
    "# Les boucles\n",
    "- Boucles for (liste, générateur). range en Pyhon 3\n",
    "- break, continue\n",
    "- else"
   ]
  },
  {
   "cell_type": "code",
   "execution_count": 108,
   "metadata": {
    "collapsed": false
   },
   "outputs": [
    {
     "name": "stdout",
     "output_type": "stream",
     "text": [
      "0\n",
      "1\n",
      "2\n",
      "3\n",
      "4\n",
      "5\n"
     ]
    }
   ],
   "source": [
    "l = [1,2,3]\n",
    "for elm in range(10000000000):\n",
    "    if elm>5:\n",
    "        break\n",
    "    print(elm)"
   ]
  },
  {
   "cell_type": "code",
   "execution_count": 111,
   "metadata": {
    "collapsed": false
   },
   "outputs": [
    {
     "name": "stdout",
     "output_type": "stream",
     "text": [
      "A\n",
      "0\n",
      "B\n",
      "A\n",
      "1\n",
      "B\n",
      "A\n",
      "2\n",
      "B\n",
      "A\n",
      "3\n",
      "B\n",
      "A\n",
      "4\n",
      "B\n",
      "A\n",
      "5\n",
      "B\n",
      "A\n",
      "6\n",
      "B\n",
      "A\n",
      "7\n",
      "B\n",
      "A\n",
      "8\n",
      "B\n",
      "A\n",
      "9\n",
      "B\n"
     ]
    }
   ],
   "source": [
    "def mon_range(N):\n",
    "    i = 0\n",
    "    while(i<N):\n",
    "        print('A')\n",
    "        yield i\n",
    "        print('B')\n",
    "        i = i + 1\n",
    "\n",
    "for elm in mon_range(10):\n",
    "    print(elm)\n",
    "    "
   ]
  },
  {
   "cell_type": "code",
   "execution_count": 114,
   "metadata": {
    "collapsed": false
   },
   "outputs": [
    {
     "name": "stdout",
     "output_type": "stream",
     "text": [
      "(0, 0)\n",
      "(0, 1)\n",
      "(0, 2)\n",
      "(1, 0)\n",
      "(1, 1)\n",
      "(1, 2)\n",
      "(2, 0)\n",
      "(2, 1)\n",
      "(2, 2)\n"
     ]
    },
    {
     "data": {
      "text/plain": [
       "[(0, 0), (0, 1), (0, 2), (1, 0), (1, 1), (1, 2), (2, 0), (2, 1), (2, 2)]"
      ]
     },
     "execution_count": 114,
     "metadata": {},
     "output_type": "execute_result"
    }
   ],
   "source": [
    "def coordonnees(N, M):\n",
    "    for i in range(N):\n",
    "        for j in range(M):\n",
    "            yield i, j\n",
    "            \n",
    "for ij in coordonnees(3, 3):\n",
    "    print(ij)\n",
    "    \n",
    "list(coordonnees(3, 3))"
   ]
  },
  {
   "cell_type": "code",
   "execution_count": 120,
   "metadata": {
    "collapsed": false
   },
   "outputs": [],
   "source": [
    "for i in range(30):\n",
    "    if i>20:\n",
    "        break\n",
    "else:\n",
    "    print('COUCOU')"
   ]
  },
  {
   "cell_type": "markdown",
   "metadata": {},
   "source": [
    "# 3. Quelques subtilités de Python"
   ]
  },
  {
   "cell_type": "markdown",
   "metadata": {},
   "source": [
    "## Assignation"
   ]
  },
  {
   "cell_type": "code",
   "execution_count": 121,
   "metadata": {
    "collapsed": false
   },
   "outputs": [
    {
     "data": {
      "text/plain": [
       "[1, 2]"
      ]
     },
     "execution_count": 121,
     "metadata": {},
     "output_type": "execute_result"
    }
   ],
   "source": [
    "l = [1, 2]\n",
    "ll = l\n",
    "del l\n",
    "ll"
   ]
  },
  {
   "cell_type": "markdown",
   "metadata": {},
   "source": [
    "## Variable locale / variable globale"
   ]
  },
  {
   "cell_type": "code",
   "execution_count": 129,
   "metadata": {
    "collapsed": false
   },
   "outputs": [
    {
     "name": "stdout",
     "output_type": "stream",
     "text": [
      "2\n",
      "0.1411200080598672\n",
      "1\n"
     ]
    }
   ],
   "source": [
    "from math import sin\n",
    "a = 1\n",
    "\n",
    "def f(b=2):\n",
    "    print(b)\n",
    "    a = 2\n",
    "    b = 3\n",
    "    print(sin(3))\n",
    "    \n",
    "f()\n",
    "print(a)\n",
    "\n",
    "#def f():\n",
    "#    global a\n",
    "#    a = 2\n",
    "#print(a)\n",
    "#f()\n",
    "#print(a)"
   ]
  },
  {
   "cell_type": "markdown",
   "metadata": {},
   "source": [
    "# 4. Les erreurs\n",
    "- Soulever les erreurs\n",
    "- Tester les erreurs"
   ]
  },
  {
   "cell_type": "code",
   "execution_count": 139,
   "metadata": {
    "collapsed": false
   },
   "outputs": [],
   "source": [
    "l = [1, 2, 3]\n",
    "#l(2)\n",
    "\n",
    "#sin[1]\n",
    "\n",
    "#sqrt(-1)\n",
    "\n",
    "#l[10]\n",
    "\n",
    "\n",
    "def ma_fonction():\n",
    "    a = (1 + 3 + sin(3)\n",
    "        + 2)\n",
    "    return a"
   ]
  },
  {
   "cell_type": "code",
   "execution_count": 144,
   "metadata": {
    "collapsed": false
   },
   "outputs": [
    {
     "name": "stdout",
     "output_type": "stream",
     "text": [
      "1j\n",
      "1j\n"
     ]
    }
   ],
   "source": [
    "a = -1\n",
    "if a>0:\n",
    "    b = sqrt(a)\n",
    "else:\n",
    "    b = 1j*sqrt(-a)\n",
    "print(b)\n",
    "\n",
    "try:\n",
    "    b = sqrt(a)\n",
    "except ValueError:\n",
    "    b = 1j*sqrt(-a)\n",
    "print(b)"
   ]
  },
  {
   "cell_type": "code",
   "execution_count": 158,
   "metadata": {
    "collapsed": false
   },
   "outputs": [
    {
     "ename": "Exception",
     "evalue": "Le triangle n'existe pas",
     "output_type": "error",
     "traceback": [
      "\u001b[1;31m---------------------------------------------------------------------------\u001b[0m",
      "\u001b[1;31mValueError\u001b[0m                                Traceback (most recent call last)",
      "\u001b[1;32m<ipython-input-158-6e22c09501ca>\u001b[0m in \u001b[0;36maire_triangle\u001b[1;34m(a, b, c)\u001b[0m\n\u001b[0;32m      3\u001b[0m     \u001b[1;32mtry\u001b[0m\u001b[1;33m:\u001b[0m\u001b[1;33m\u001b[0m\u001b[0m\n\u001b[1;32m----> 4\u001b[1;33m         \u001b[1;32mreturn\u001b[0m \u001b[0msqrt\u001b[0m\u001b[1;33m(\u001b[0m\u001b[0ms\u001b[0m\u001b[1;33m*\u001b[0m\u001b[1;33m(\u001b[0m\u001b[0ms\u001b[0m\u001b[1;33m-\u001b[0m\u001b[0ma\u001b[0m\u001b[1;33m)\u001b[0m\u001b[1;33m*\u001b[0m\u001b[1;33m(\u001b[0m\u001b[0ms\u001b[0m\u001b[1;33m-\u001b[0m\u001b[0mb\u001b[0m\u001b[1;33m)\u001b[0m\u001b[1;33m*\u001b[0m\u001b[1;33m(\u001b[0m\u001b[0ms\u001b[0m\u001b[1;33m-\u001b[0m\u001b[0mc\u001b[0m\u001b[1;33m)\u001b[0m\u001b[1;33m)\u001b[0m\u001b[1;33m\u001b[0m\u001b[0m\n\u001b[0m\u001b[0;32m      5\u001b[0m     \u001b[1;32mexcept\u001b[0m \u001b[0mValueError\u001b[0m\u001b[1;33m:\u001b[0m\u001b[1;33m\u001b[0m\u001b[0m\n",
      "\u001b[1;31mValueError\u001b[0m: math domain error",
      "\nDuring handling of the above exception, another exception occurred:\n",
      "\u001b[1;31mException\u001b[0m                                 Traceback (most recent call last)",
      "\u001b[1;32m<ipython-input-158-6e22c09501ca>\u001b[0m in \u001b[0;36m<module>\u001b[1;34m()\u001b[0m\n\u001b[0;32m      6\u001b[0m         \u001b[1;32mraise\u001b[0m \u001b[0mException\u001b[0m\u001b[1;33m(\u001b[0m\u001b[1;34m\"Le triangle n'existe pas\"\u001b[0m\u001b[1;33m)\u001b[0m\u001b[1;33m\u001b[0m\u001b[0m\n\u001b[0;32m      7\u001b[0m \u001b[1;33m\u001b[0m\u001b[0m\n\u001b[1;32m----> 8\u001b[1;33m \u001b[1;36m2\u001b[0m\u001b[1;33m*\u001b[0m\u001b[0maire_triangle\u001b[0m\u001b[1;33m(\u001b[0m\u001b[1;36m3\u001b[0m\u001b[1;33m,\u001b[0m \u001b[1;36m4\u001b[0m\u001b[1;33m,\u001b[0m \u001b[1;36m50\u001b[0m\u001b[1;33m)\u001b[0m\u001b[1;33m\u001b[0m\u001b[0m\n\u001b[0m",
      "\u001b[1;32m<ipython-input-158-6e22c09501ca>\u001b[0m in \u001b[0;36maire_triangle\u001b[1;34m(a, b, c)\u001b[0m\n\u001b[0;32m      4\u001b[0m         \u001b[1;32mreturn\u001b[0m \u001b[0msqrt\u001b[0m\u001b[1;33m(\u001b[0m\u001b[0ms\u001b[0m\u001b[1;33m*\u001b[0m\u001b[1;33m(\u001b[0m\u001b[0ms\u001b[0m\u001b[1;33m-\u001b[0m\u001b[0ma\u001b[0m\u001b[1;33m)\u001b[0m\u001b[1;33m*\u001b[0m\u001b[1;33m(\u001b[0m\u001b[0ms\u001b[0m\u001b[1;33m-\u001b[0m\u001b[0mb\u001b[0m\u001b[1;33m)\u001b[0m\u001b[1;33m*\u001b[0m\u001b[1;33m(\u001b[0m\u001b[0ms\u001b[0m\u001b[1;33m-\u001b[0m\u001b[0mc\u001b[0m\u001b[1;33m)\u001b[0m\u001b[1;33m)\u001b[0m\u001b[1;33m\u001b[0m\u001b[0m\n\u001b[0;32m      5\u001b[0m     \u001b[1;32mexcept\u001b[0m \u001b[0mValueError\u001b[0m\u001b[1;33m:\u001b[0m\u001b[1;33m\u001b[0m\u001b[0m\n\u001b[1;32m----> 6\u001b[1;33m         \u001b[1;32mraise\u001b[0m \u001b[0mException\u001b[0m\u001b[1;33m(\u001b[0m\u001b[1;34m\"Le triangle n'existe pas\"\u001b[0m\u001b[1;33m)\u001b[0m\u001b[1;33m\u001b[0m\u001b[0m\n\u001b[0m\u001b[0;32m      7\u001b[0m \u001b[1;33m\u001b[0m\u001b[0m\n\u001b[0;32m      8\u001b[0m \u001b[1;36m2\u001b[0m\u001b[1;33m*\u001b[0m\u001b[0maire_triangle\u001b[0m\u001b[1;33m(\u001b[0m\u001b[1;36m3\u001b[0m\u001b[1;33m,\u001b[0m \u001b[1;36m4\u001b[0m\u001b[1;33m,\u001b[0m \u001b[1;36m50\u001b[0m\u001b[1;33m)\u001b[0m\u001b[1;33m\u001b[0m\u001b[0m\n",
      "\u001b[1;31mException\u001b[0m: Le triangle n'existe pas"
     ]
    }
   ],
   "source": [
    "def aire_triangle(a, b, c):\n",
    "    s = (a+b+c)/2\n",
    "    try:\n",
    "        return sqrt(s*(s-a)*(s-b)*(s-c))\n",
    "    except ValueError:\n",
    "        raise Exception(\"Le triangle n'existe pas\")\n",
    "    \n",
    "2*aire_triangle(3, 4, 50)"
   ]
  },
  {
   "cell_type": "code",
   "execution_count": 156,
   "metadata": {
    "collapsed": false
   },
   "outputs": [
    {
     "ename": "TypeError",
     "evalue": "unsupported operand type(s) for *: 'int' and 'NoneType'",
     "output_type": "error",
     "traceback": [
      "\u001b[1;31m---------------------------------------------------------------------------\u001b[0m",
      "\u001b[1;31mTypeError\u001b[0m                                 Traceback (most recent call last)",
      "\u001b[1;32m<ipython-input-156-c8911253f405>\u001b[0m in \u001b[0;36m<module>\u001b[1;34m()\u001b[0m\n\u001b[0;32m      4\u001b[0m \u001b[0mf\u001b[0m\u001b[1;33m(\u001b[0m\u001b[1;33m)\u001b[0m\u001b[1;33m==\u001b[0m\u001b[1;32mNone\u001b[0m\u001b[1;33m\u001b[0m\u001b[0m\n\u001b[0;32m      5\u001b[0m \u001b[1;33m\u001b[0m\u001b[0m\n\u001b[1;32m----> 6\u001b[1;33m \u001b[1;36m2\u001b[0m\u001b[1;33m*\u001b[0m\u001b[1;32mNone\u001b[0m\u001b[1;33m\u001b[0m\u001b[0m\n\u001b[0m",
      "\u001b[1;31mTypeError\u001b[0m: unsupported operand type(s) for *: 'int' and 'NoneType'"
     ]
    }
   ],
   "source": [
    "def f():\n",
    "    pass\n",
    "\n",
    "f()==None\n",
    "\n",
    "2*None"
   ]
  },
  {
   "cell_type": "code",
   "execution_count": 145,
   "metadata": {
    "collapsed": false
   },
   "outputs": [
    {
     "ename": "FileNotFoundError",
     "evalue": "[Errno 2] No such file or directory: 'unzepripzeiorpozier'",
     "output_type": "error",
     "traceback": [
      "\u001b[1;31m---------------------------------------------------------------------------\u001b[0m",
      "\u001b[1;31mFileNotFoundError\u001b[0m                         Traceback (most recent call last)",
      "\u001b[1;32m<ipython-input-145-8c476c9cacac>\u001b[0m in \u001b[0;36m<module>\u001b[1;34m()\u001b[0m\n\u001b[1;32m----> 1\u001b[1;33m \u001b[0mopen\u001b[0m\u001b[1;33m(\u001b[0m\u001b[1;34m'unzepripzeiorpozier'\u001b[0m\u001b[1;33m)\u001b[0m\u001b[1;33m\u001b[0m\u001b[0m\n\u001b[0m",
      "\u001b[1;31mFileNotFoundError\u001b[0m: [Errno 2] No such file or directory: 'unzepripzeiorpozier'"
     ]
    }
   ],
   "source": [
    "open('unzepripzeiorpozier')"
   ]
  },
  {
   "cell_type": "markdown",
   "metadata": {},
   "source": [
    "# 5. Créer des objets\n",
    "- Attributs\n",
    "- Méthodes"
   ]
  },
  {
   "cell_type": "code",
   "execution_count": 211,
   "metadata": {
    "collapsed": false
   },
   "outputs": [
    {
     "name": "stdout",
     "output_type": "stream",
     "text": [
      "3.14\n",
      "3.14+2i\n",
      "3.14+2i\n",
      "6.28+4i\n",
      "5.140000000000001+2i\n",
      "5.140000000000001+2i\n",
      "3.14-2i\n",
      "1i\n",
      "2+1i\n"
     ]
    },
    {
     "data": {
      "text/plain": [
       "1.5707963267948966"
      ]
     },
     "execution_count": 211,
     "metadata": {},
     "output_type": "execute_result"
    }
   ],
   "source": [
    "from math import atan2\n",
    "\n",
    "class Complex(object):\n",
    "    def __init__(self, partie_reelle, partie_imaginaire):\n",
    "        self.real = partie_reelle\n",
    "        self.ima = partie_imaginaire\n",
    "    \n",
    "    def display(self):\n",
    "        print('{}+{}i'.format(self.real, self.ima))\n",
    "\n",
    "    def __str__(self):\n",
    "        if self.ima>0:\n",
    "            return '{}+{}i'.format(self.real, self.ima)\n",
    "        else:\n",
    "            return '{}-{}i'.format(self.real, -self.ima)\n",
    "    \n",
    "    def __repr__(self):\n",
    "        return \"Complexe({}, {})\".format(self.real, self.ima)\n",
    "    \n",
    "    def __add__(self, other):\n",
    "        if isinstance(other, Complex):\n",
    "            return Complex(self.real+other.real,\n",
    "                          self.ima+other.ima)\n",
    "        else:\n",
    "            return Complex(self.real+other,\n",
    "                          self.ima)\n",
    "    \n",
    "    def __radd__(self, other):\n",
    "        return self + other\n",
    "    \n",
    "    def conj(self):\n",
    "        return Complex(self.real, -self.ima)\n",
    "    # __mul__, __truediv__, __sub__, __pow__, __neg__\n",
    "    \n",
    "    @property\n",
    "    def theta(self):\n",
    "        return atan2(self.ima, self.real)\n",
    "    \n",
    "class ImaginairePur(Complex):\n",
    "    def __init__(self, val):\n",
    "        self.real = 0\n",
    "        self.ima = val\n",
    "\n",
    "    def __str__(self):\n",
    "        return '{}i'.format(self.ima)\n",
    "        \n",
    "        \n",
    "z = Complex(3.14, 2)\n",
    "#z.real = 3.14\n",
    "#z.imag = 2\n",
    "print(z.real)\n",
    "z.display()\n",
    "print(z)\n",
    "z\n",
    "\n",
    "print(z + z)\n",
    "print(z + 2)\n",
    "print(2 + z)\n",
    "print(z.conj())\n",
    "\n",
    "i = ImaginairePur(1)\n",
    "print(i)\n",
    "print(i+2)\n",
    "\n",
    "i.theta"
   ]
  },
  {
   "cell_type": "code",
   "execution_count": 183,
   "metadata": {
    "collapsed": false
   },
   "outputs": [
    {
     "data": {
      "text/plain": [
       "0.5"
      ]
     },
     "execution_count": 183,
     "metadata": {},
     "output_type": "execute_result"
    }
   ],
   "source": [
    "1/2"
   ]
  },
  {
   "cell_type": "markdown",
   "metadata": {
    "collapsed": true
   },
   "source": [
    "## Les décorateurs\n",
    "\n",
    " * vectorize"
   ]
  },
  {
   "cell_type": "code",
   "execution_count": 196,
   "metadata": {
    "collapsed": false
   },
   "outputs": [
    {
     "data": {
      "text/plain": [
       "[1, 2, 25]"
      ]
     },
     "execution_count": 196,
     "metadata": {},
     "output_type": "execute_result"
    }
   ],
   "source": [
    "#@nom_du_decorateur\n",
    "#def ma_fonction():\n",
    "#    pass\n",
    "\n",
    "#def ma_fonction():\n",
    "#    pass\n",
    "#ma_fonction = nom_du_decorateur(ma_fonction)\n",
    "\n",
    "def vectorize(fonction_initiale):\n",
    "    def la_nouvelle_fonction(x):\n",
    "        if isinstance(x, list):\n",
    "            return [fonction_initiale(elm) for elm in x]\n",
    "        return fonction_initiale(x)\n",
    "    \n",
    "    return la_nouvelle_fonction\n",
    "\n",
    "@vectorize\n",
    "def ma_fonction(x):\n",
    "    if x>0:\n",
    "        return x\n",
    "    else:\n",
    "        return x**2\n",
    "\n",
    "ma_fonction([1,2, -5])\n"
   ]
  },
  {
   "cell_type": "code",
   "execution_count": 205,
   "metadata": {
    "collapsed": false
   },
   "outputs": [
    {
     "name": "stdout",
     "output_type": "stream",
     "text": [
      "1 2 (3, 4, 5)\n",
      "1 2 (3, 4, 5) {'beta': 2, 'alpha': 1}\n",
      "12\n",
      "{'T': 26, 'P': 1.3}\n"
     ]
    },
    {
     "data": {
      "text/plain": [
       "3"
      ]
     },
     "execution_count": 205,
     "metadata": {},
     "output_type": "execute_result"
    }
   ],
   "source": [
    "def ma_fonction(a, b, c=2):\n",
    "    return a+b+c\n",
    "\n",
    "def ma_fonction(a, b, *args):\n",
    "    print(a, b, args)\n",
    "\n",
    "ma_fonction(1, 2, 3, 4, 5)\n",
    "\n",
    "def ma_fonction(a, b, *args, **kwd):\n",
    "    print(a, b, args, kwd)\n",
    "\n",
    "ma_fonction(1, 2, 3, 4, 5, alpha=1, beta=2)\n",
    "\n",
    "def ma_somme(*args):\n",
    "    out = 0\n",
    "    for elm in args:\n",
    "        out += elm\n",
    "    return out\n",
    "\n",
    "print(ma_somme(1, 2, 4, 5))\n",
    "\n",
    "def truc(a, b):\n",
    "    return a*b\n",
    "\n",
    "param = (1, 2)\n",
    "truc(*param)\n",
    "\n",
    "param = {'b':1, 'a':2}\n",
    "truc(**param)\n",
    "\n",
    "\n",
    "\n",
    "def puissance(U, I, **kwd):\n",
    "    print(kwd)\n",
    "    return U*I\n",
    "\n",
    "parametres = {'U':1, 'I':3, 'T':26, 'P':1.3}\n",
    "\n",
    "puissance(**parametres)"
   ]
  },
  {
   "cell_type": "code",
   "execution_count": 207,
   "metadata": {
    "collapsed": false
   },
   "outputs": [
    {
     "data": {
      "text/plain": [
       "4.0"
      ]
     },
     "execution_count": 207,
     "metadata": {},
     "output_type": "execute_result"
    }
   ],
   "source": [
    "DEBUG = False\n",
    "def affiche_arguments(f):\n",
    "    def nouvelle_fonction(*args, **kwd):\n",
    "        if DEBUG: print(args, kwd)\n",
    "        return f(*args, **kwd)\n",
    "    return nouvelle_fonction\n",
    "\n",
    "@affiche_arguments\n",
    "def ma_fonction(a, b, c):\n",
    "    return (a+b+c)/2\n",
    "\n",
    "ma_fonction(1, 3, 4)"
   ]
  },
  {
   "cell_type": "markdown",
   "metadata": {},
   "source": [
    "## Exemples d'objets\n",
    "\n",
    "* Partition de musique. Pour simplifier, suite de son définie par hauteur, durée, intensité.\n",
    "* Arbre : généalogique, livre, équation symbolique. Exemple de méthode : parentée, ascendance"
   ]
  },
  {
   "cell_type": "code",
   "execution_count": null,
   "metadata": {
    "collapsed": true
   },
   "outputs": [],
   "source": []
  }
 ],
 "metadata": {
  "anaconda-cloud": {},
  "kernelspec": {
   "display_name": "Python [Root]",
   "language": "python",
   "name": "Python [Root]"
  },
  "language_info": {
   "codemirror_mode": {
    "name": "ipython",
    "version": 3
   },
   "file_extension": ".py",
   "mimetype": "text/x-python",
   "name": "python",
   "nbconvert_exporter": "python",
   "pygments_lexer": "ipython3",
   "version": "3.5.2"
  }
 },
 "nbformat": 4,
 "nbformat_minor": 1
}
